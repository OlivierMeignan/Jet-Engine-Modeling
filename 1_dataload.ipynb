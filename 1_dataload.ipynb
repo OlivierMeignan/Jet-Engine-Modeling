{
 "cells": [
  {
   "cell_type": "code",
   "execution_count": 5,
   "id": "c440ae3f-817f-452c-bf6e-a25a5a507a67",
   "metadata": {},
   "outputs": [],
   "source": [
    "import cml.data_v1 as cmldata\n",
    "\n",
    "CONNECTION_NAME = \"go01-aw-dl\"\n",
    "conn = cmldata.get_connection(CONNECTION_NAME)\n",
    "spark = conn.get_spark_session()\n"
   ]
  },
  {
   "cell_type": "code",
   "execution_count": 8,
   "id": "886f2f47-c322-4496-b9f1-7c157ecf9274",
   "metadata": {},
   "outputs": [
    {
     "data": {
      "text/plain": [
       "DataFrame[]"
      ]
     },
     "execution_count": 8,
     "metadata": {},
     "output_type": "execute_result"
    }
   ],
   "source": [
    "# Create DB for Jet Engine\n",
    "\n",
    "db=\"jetengine\"\n",
    "spark.sql(\"create database if not exists \" + db)\n",
    "\n"
   ]
  },
  {
   "cell_type": "code",
   "execution_count": 17,
   "id": "7bcf0ac8-4b92-41e8-aa4b-7c214db9f55a",
   "metadata": {},
   "outputs": [
    {
     "name": "stdout",
     "output_type": "stream",
     "text": [
      "Fichier : train_FD003.csv\n",
      "Table   : train_FD003\n"
     ]
    },
    {
     "name": "stderr",
     "output_type": "stream",
     "text": [
      "/opt/spark/python/lib/pyspark.zip/pyspark/sql/pandas/conversion.py:331: FutureWarning: iteritems is deprecated and will be removed in a future version. Use .items instead.\n",
      "                                                                                \r"
     ]
    },
    {
     "name": "stdout",
     "output_type": "stream",
     "text": [
      "Fichier : test_FD001.csv\n",
      "Table   : test_FD001\n"
     ]
    },
    {
     "name": "stderr",
     "output_type": "stream",
     "text": [
      "/opt/spark/python/lib/pyspark.zip/pyspark/sql/pandas/conversion.py:331: FutureWarning: iteritems is deprecated and will be removed in a future version. Use .items instead.\n",
      "                                                                                \r"
     ]
    },
    {
     "name": "stdout",
     "output_type": "stream",
     "text": [
      "Fichier : train_FD001.csv\n",
      "Table   : train_FD001\n"
     ]
    },
    {
     "name": "stderr",
     "output_type": "stream",
     "text": [
      "/opt/spark/python/lib/pyspark.zip/pyspark/sql/pandas/conversion.py:331: FutureWarning: iteritems is deprecated and will be removed in a future version. Use .items instead.\n",
      "                                                                                \r"
     ]
    },
    {
     "name": "stdout",
     "output_type": "stream",
     "text": [
      "Fichier : test_FD003.csv\n",
      "Table   : test_FD003\n"
     ]
    },
    {
     "name": "stderr",
     "output_type": "stream",
     "text": [
      "/opt/spark/python/lib/pyspark.zip/pyspark/sql/pandas/conversion.py:331: FutureWarning: iteritems is deprecated and will be removed in a future version. Use .items instead.\n",
      "                                                                                \r"
     ]
    },
    {
     "name": "stdout",
     "output_type": "stream",
     "text": [
      "Fichier : train_FD004.csv\n",
      "Table   : train_FD004\n"
     ]
    },
    {
     "name": "stderr",
     "output_type": "stream",
     "text": [
      "/opt/spark/python/lib/pyspark.zip/pyspark/sql/pandas/conversion.py:331: FutureWarning: iteritems is deprecated and will be removed in a future version. Use .items instead.\n",
      "                                                                                \r"
     ]
    },
    {
     "name": "stdout",
     "output_type": "stream",
     "text": [
      "Fichier : test_FD002.csv\n",
      "Table   : test_FD002\n"
     ]
    },
    {
     "name": "stderr",
     "output_type": "stream",
     "text": [
      "/opt/spark/python/lib/pyspark.zip/pyspark/sql/pandas/conversion.py:331: FutureWarning: iteritems is deprecated and will be removed in a future version. Use .items instead.\n",
      "                                                                                \r"
     ]
    },
    {
     "name": "stdout",
     "output_type": "stream",
     "text": [
      "Fichier : train_FD002.csv\n",
      "Table   : train_FD002\n"
     ]
    },
    {
     "name": "stderr",
     "output_type": "stream",
     "text": [
      "/opt/spark/python/lib/pyspark.zip/pyspark/sql/pandas/conversion.py:331: FutureWarning: iteritems is deprecated and will be removed in a future version. Use .items instead.\n",
      "                                                                                \r"
     ]
    },
    {
     "name": "stdout",
     "output_type": "stream",
     "text": [
      "Fichier : test_FD004.csv\n",
      "Table   : test_FD004\n"
     ]
    },
    {
     "name": "stderr",
     "output_type": "stream",
     "text": [
      "/opt/spark/python/lib/pyspark.zip/pyspark/sql/pandas/conversion.py:331: FutureWarning: iteritems is deprecated and will be removed in a future version. Use .items instead.\n",
      "                                                                                \r"
     ]
    }
   ],
   "source": [
    "import os \n",
    "import pandas as pd\n",
    "\n",
    "for fname in  os.listdir(\"data\"):\n",
    "    \n",
    "    if ( fname.split('.')[1] == 'csv' ):\n",
    "      tbname = fname.split('.')[0]\n",
    "      fpath = \"data/\" + fname\n",
    "\n",
    "      print (\"Fichier : \" + fname)\n",
    "      print (\"Table   : \" + tbname)\n",
    "    \n",
    "      df=pd.read_csv(fpath , header='infer', sep=',')\n",
    "             \n",
    "      sf=spark.createDataFrame(df)\n",
    "      sf.write.format(\"parquet\").mode(\"overwrite\").saveAsTable(db + \".\" + tbname)\n",
    "\n",
    "\n",
    "\n"
   ]
  },
  {
   "cell_type": "code",
   "execution_count": 16,
   "id": "cfbddd96-a461-4d3e-bb97-c8e6d8f7a31b",
   "metadata": {},
   "outputs": [
    {
     "data": {
      "text/plain": [
       "StructType(List(StructField(ENGINE_NUMBER,LongType,true),StructField(TIME_IN_CYCLES,LongType,true),StructField(SETTING_1,DoubleType,true),StructField(SETTING_2,DoubleType,true),StructField(TRA,DoubleType,true),StructField(T2,DoubleType,true),StructField(T24,DoubleType,true),StructField(T30,DoubleType,true),StructField(T50,DoubleType,true),StructField(P2,DoubleType,true),StructField(P15,DoubleType,true),StructField(P30,DoubleType,true),StructField(NF,DoubleType,true),StructField(NC,DoubleType,true),StructField(EPR,DoubleType,true),StructField(PS30,DoubleType,true),StructField(PHI,DoubleType,true),StructField(NRF,DoubleType,true),StructField(NRC,DoubleType,true),StructField(BPR,DoubleType,true),StructField(FARB,DoubleType,true),StructField(HTBLEED,LongType,true),StructField(NF_DMD,LongType,true),StructField(PCNFR_DMD,DoubleType,true),StructField(W31,DoubleType,true),StructField(W32,DoubleType,true)))"
      ]
     },
     "execution_count": 16,
     "metadata": {},
     "output_type": "execute_result"
    }
   ],
   "source": [
    "\n"
   ]
  },
  {
   "cell_type": "code",
   "execution_count": null,
   "id": "f22466dd-b0ad-4b11-bc72-019b8a3ffeab",
   "metadata": {},
   "outputs": [],
   "source": []
  }
 ],
 "metadata": {
  "kernelspec": {
   "display_name": "Python 3 (ipykernel)",
   "language": "python",
   "name": "python3"
  },
  "language_info": {
   "codemirror_mode": {
    "name": "ipython",
    "version": 3
   },
   "file_extension": ".py",
   "mimetype": "text/x-python",
   "name": "python",
   "nbconvert_exporter": "python",
   "pygments_lexer": "ipython3",
   "version": "3.9.7"
  }
 },
 "nbformat": 4,
 "nbformat_minor": 5
}
